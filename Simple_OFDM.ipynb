{
  "nbformat": 4,
  "nbformat_minor": 0,
  "metadata": {
    "colab": {
      "name": "Simple_OFDM.ipynb",
      "provenance": [],
      "collapsed_sections": []
    },
    "kernelspec": {
      "name": "python3",
      "display_name": "Python 3"
    },
    "language_info": {
      "name": "python"
    }
  },
  "cells": [
    {
      "cell_type": "code",
      "metadata": {
        "id": "2H33EmthDPpl",
        "colab": {
          "base_uri": "https://localhost:8080/"
        },
        "outputId": "9a83eafc-9a6b-4004-b590-3fa70c165fc8"
      },
      "source": [
        "##Data\n",
        "import numpy as np\n",
        "N=4 #Number of subcarriers\n",
        "L=2 #number of symbols\n",
        "M=8\n",
        "k = int(np.log2(M)) \n",
        "Data = np.random.randint(2,size=(N*L*k))\n",
        "print(\"data = \\n\" ,Data)"
      ],
      "execution_count": null,
      "outputs": [
        {
          "output_type": "stream",
          "name": "stdout",
          "text": [
            "data = \n",
            " [0 1 0 1 1 1 1 0 1 0 0 0 1 1 0 1 1 0 0 1 1 1 1 0]\n"
          ]
        }
      ]
    },
    {
      "cell_type": "code",
      "source": [
        "import numpy as geek\n",
        "  \n",
        "# input array\n",
        "in_arr = geek.array([ 2, 0,  1, 5, 4, 1, 9])\n",
        "out_arr = geek.argsort(in_arr)\n",
        "print (\"Output sorted array indices : \", out_arr)"
      ],
      "metadata": {
        "colab": {
          "base_uri": "https://localhost:8080/"
        },
        "id": "mqQ4x7_1v3LD",
        "outputId": "3050c6c8-39ef-4e66-a741-e9847e247d4d"
      },
      "execution_count": null,
      "outputs": [
        {
          "output_type": "stream",
          "name": "stdout",
          "text": [
            "Output sorted array indices :  [1 2 5 0 4 3 6]\n"
          ]
        }
      ]
    },
    {
      "cell_type": "code",
      "source": [
        "!pip install ModulationPy "
      ],
      "metadata": {
        "colab": {
          "base_uri": "https://localhost:8080/"
        },
        "id": "RUrnqASY9flN",
        "outputId": "b1a12c28-148b-46d5-e445-5afd993da456"
      },
      "execution_count": null,
      "outputs": [
        {
          "output_type": "stream",
          "name": "stdout",
          "text": [
            "Requirement already satisfied: ModulationPy in /usr/local/lib/python3.7/dist-packages (0.1.8)\n",
            "Requirement already satisfied: matplotlib>=2.2.2 in /usr/local/lib/python3.7/dist-packages (from ModulationPy) (3.2.2)\n",
            "Requirement already satisfied: numpy>=1.7.1 in /usr/local/lib/python3.7/dist-packages (from ModulationPy) (1.19.5)\n",
            "Requirement already satisfied: kiwisolver>=1.0.1 in /usr/local/lib/python3.7/dist-packages (from matplotlib>=2.2.2->ModulationPy) (1.3.2)\n",
            "Requirement already satisfied: cycler>=0.10 in /usr/local/lib/python3.7/dist-packages (from matplotlib>=2.2.2->ModulationPy) (0.11.0)\n",
            "Requirement already satisfied: python-dateutil>=2.1 in /usr/local/lib/python3.7/dist-packages (from matplotlib>=2.2.2->ModulationPy) (2.8.2)\n",
            "Requirement already satisfied: pyparsing!=2.0.4,!=2.1.2,!=2.1.6,>=2.0.1 in /usr/local/lib/python3.7/dist-packages (from matplotlib>=2.2.2->ModulationPy) (3.0.7)\n",
            "Requirement already satisfied: six>=1.5 in /usr/local/lib/python3.7/dist-packages (from python-dateutil>=2.1->matplotlib>=2.2.2->ModulationPy) (1.15.0)\n"
          ]
        }
      ]
    },
    {
      "cell_type": "code",
      "source": [
        "modem = PSKModem(M,gray_map=True,bin_input=True) \n",
        "modem.modulate(Data)"
      ],
      "metadata": {
        "colab": {
          "base_uri": "https://localhost:8080/",
          "height": 182
        },
        "id": "TWXlAIAl9i9x",
        "outputId": "12614a7f-7775-4186-e712-41193ce92174"
      },
      "execution_count": null,
      "outputs": [
        {
          "output_type": "error",
          "ename": "NameError",
          "evalue": "ignored",
          "traceback": [
            "\u001b[0;31m---------------------------------------------------------------------------\u001b[0m",
            "\u001b[0;31mNameError\u001b[0m                                 Traceback (most recent call last)",
            "\u001b[0;32m<ipython-input-5-7084417e38d3>\u001b[0m in \u001b[0;36m<module>\u001b[0;34m()\u001b[0m\n\u001b[0;32m----> 1\u001b[0;31m \u001b[0mmodem\u001b[0m \u001b[0;34m=\u001b[0m \u001b[0mPSKModem\u001b[0m\u001b[0;34m(\u001b[0m\u001b[0mM\u001b[0m\u001b[0;34m,\u001b[0m\u001b[0mgray_map\u001b[0m\u001b[0;34m=\u001b[0m\u001b[0;32mTrue\u001b[0m\u001b[0;34m,\u001b[0m\u001b[0mbin_input\u001b[0m\u001b[0;34m=\u001b[0m\u001b[0;32mTrue\u001b[0m\u001b[0;34m)\u001b[0m\u001b[0;34m\u001b[0m\u001b[0;34m\u001b[0m\u001b[0m\n\u001b[0m\u001b[1;32m      2\u001b[0m \u001b[0mmodem\u001b[0m\u001b[0;34m.\u001b[0m\u001b[0mmodulate\u001b[0m\u001b[0;34m(\u001b[0m\u001b[0mData\u001b[0m\u001b[0;34m)\u001b[0m\u001b[0;34m\u001b[0m\u001b[0;34m\u001b[0m\u001b[0m\n",
            "\u001b[0;31mNameError\u001b[0m: name 'PSKModem' is not defined"
          ]
        }
      ]
    },
    {
      "cell_type": "code",
      "source": [
        "def IFFTformatrix(matrix):\n",
        "    [raws,columns]=matrix.shape\n",
        "    Data_ifft = np.zeros((N,L), dtype=complex)\n",
        "    p=0\n",
        "    while p<columns:\n",
        "          Data_ifft[:,p]= np.fft.ifft(matrix[:,p])\n",
        "          p+=1\n",
        "    return Data_ifft"
      ],
      "metadata": {
        "id": "2OhscXK8AInC"
      },
      "execution_count": null,
      "outputs": []
    },
    {
      "cell_type": "code",
      "source": [
        "print(IFFTformatrix(Data))"
      ],
      "metadata": {
        "colab": {
          "base_uri": "https://localhost:8080/"
        },
        "id": "vKL_ExaHANA6",
        "outputId": "17f91309-73c5-4e64-d627-932022705875"
      },
      "execution_count": null,
      "outputs": [
        {
          "output_type": "stream",
          "name": "stdout",
          "text": [
            "[[ 1.75+0.j   2.25+0.j ]\n",
            " [-0.75-0.5j -0.25+0.j ]\n",
            " [ 0.75+0.j   2.25+0.j ]\n",
            " [-0.75+0.5j -0.25+0.j ]]\n"
          ]
        }
      ]
    },
    {
      "cell_type": "code",
      "metadata": {
        "colab": {
          "base_uri": "https://localhost:8080/"
        },
        "id": "L-mc7QQwt5wG",
        "outputId": "6095f474-0041-4499-bef2-b220c60ea9fc"
      },
      "source": [
        "#IFFT\n",
        "p=0\n",
        "Data_ifft = np.zeros((N,L), dtype=complex)  #per column\n",
        "while p<L:\n",
        "      Data_ifft[:,p]= np.fft.ifft(Data[:,p])\n",
        "      p+=1\n",
        "print(Data_ifft)\n",
        "\n",
        "#Data_ifft = np.fft.ifft(Data)\n",
        "data_final = Data_ifft"
      ],
      "execution_count": null,
      "outputs": [
        {
          "output_type": "stream",
          "name": "stdout",
          "text": [
            "[[ 1.75+0.j   2.25+0.j ]\n",
            " [-0.75-0.5j -0.25+0.j ]\n",
            " [ 0.75+0.j   2.25+0.j ]\n",
            " [-0.75+0.5j -0.25+0.j ]]\n"
          ]
        }
      ]
    },
    {
      "cell_type": "code",
      "metadata": {
        "id": "eQYKpTxkHunK",
        "colab": {
          "base_uri": "https://localhost:8080/"
        },
        "outputId": "504905ab-f6f4-4373-d34c-ec1481928025"
      },
      "source": [
        "#CP\n",
        "\n",
        "Channel=[1,0.5,0.25]\n",
        "#length of cycle prefix must be >= length of channel\n",
        "CP = Data_ifft[N-3:N,:]\n",
        "#print(CP)\n",
        "Data_CP = np.vstack((CP, Data_ifft))\n",
        "print(Data_CP)\n",
        "data_final = Data_CP"
      ],
      "execution_count": null,
      "outputs": [
        {
          "output_type": "stream",
          "name": "stdout",
          "text": [
            "[[-0.75-0.5j -0.25+0.j ]\n",
            " [ 0.75+0.j   2.25+0.j ]\n",
            " [-0.75+0.5j -0.25+0.j ]\n",
            " [ 1.75+0.j   2.25+0.j ]\n",
            " [-0.75-0.5j -0.25+0.j ]\n",
            " [ 0.75+0.j   2.25+0.j ]\n",
            " [-0.75+0.5j -0.25+0.j ]]\n"
          ]
        }
      ]
    },
    {
      "cell_type": "code",
      "metadata": {
        "id": "7iY3C3Huwz7r",
        "colab": {
          "base_uri": "https://localhost:8080/"
        },
        "outputId": "255c6f06-3afd-4541-f9e1-725deeeece16"
      },
      "source": [
        "#P/S with CP\n",
        "i = 0\n",
        "s = 0\n",
        "t = 0\n",
        "serial_data = np.zeros(((N+3)*L), dtype=complex)\n",
        "while i < L:\n",
        "      k=0\n",
        "      while k < N+3: \n",
        "            g=(data_final[k,i])\n",
        "            serial_data[t]=g\n",
        "            t+=1\n",
        "            k+=1\n",
        "      i+=1    \n",
        "print(serial_data)"
      ],
      "execution_count": null,
      "outputs": [
        {
          "output_type": "stream",
          "name": "stdout",
          "text": [
            "[-0.75-0.5j  0.75+0.j  -0.75+0.5j  1.75+0.j  -0.75-0.5j  0.75+0.j\n",
            " -0.75+0.5j -0.25+0.j   2.25+0.j  -0.25+0.j   2.25+0.j  -0.25+0.j\n",
            "  2.25+0.j  -0.25+0.j ]\n"
          ]
        }
      ]
    },
    {
      "cell_type": "code",
      "metadata": {
        "id": "y6QYaF7808C0",
        "colab": {
          "base_uri": "https://localhost:8080/"
        },
        "outputId": "6435f23c-32d1-414b-cb21-aaa6a726d514"
      },
      "source": [
        "#sizes\n",
        "print(Data_ifft.shape)\n",
        "print(Data_CP.shape)\n",
        "print(serial_data.shape)"
      ],
      "execution_count": null,
      "outputs": [
        {
          "output_type": "stream",
          "name": "stdout",
          "text": [
            "(4, 2)\n",
            "(7, 2)\n",
            "(14,)\n"
          ]
        }
      ]
    },
    {
      "cell_type": "code",
      "metadata": {
        "colab": {
          "base_uri": "https://localhost:8080/"
        },
        "id": "hB8aoXHg8vyk",
        "outputId": "f76ca2b8-e8d6-4906-b917-6ac69982c4ce"
      },
      "source": [
        "#PAPR\n",
        "PAPR1 = np.convolve(serial_data,np.conj(serial_data))   #conj\n",
        "max=np.max(PAPR1)\n",
        "mean=np.mean(PAPR1)\n",
        "print(max, mean)\n",
        "PAPR=max/mean\n",
        "print(PAPR)\n",
        "\n"
      ],
      "execution_count": null,
      "outputs": [
        {
          "output_type": "stream",
          "name": "stdout",
          "text": [
            "(16.125+0j) (1.3333333333333333+0j)\n",
            "(12.09375+0j)\n"
          ]
        }
      ]
    },
    {
      "cell_type": "code",
      "metadata": {
        "id": "MhY3DsLL311X",
        "colab": {
          "base_uri": "https://localhost:8080/"
        },
        "outputId": "904c91fd-3ccb-4a42-fc6e-841e3c57a9c6"
      },
      "source": [
        "#convolution between data and channel\n",
        "from scipy.ndimage import convolve\n",
        "data_rx = np.convolve(serial_data,Channel)\n",
        "print(data_rx)\n",
        "print(data_rx.shape)"
      ],
      "execution_count": null,
      "outputs": [
        {
          "output_type": "stream",
          "name": "stdout",
          "text": [
            "[-0.75  -0.5j    0.375 -0.25j  -0.5625+0.375j  1.5625+0.25j\n",
            " -0.0625-0.375j  0.8125-0.25j  -0.5625+0.375j -0.4375+0.25j\n",
            "  1.9375+0.125j  0.8125+0.j     2.6875+0.j     0.8125+0.j\n",
            "  2.6875+0.j     0.8125+0.j     0.4375+0.j    -0.0625+0.j   ]\n",
            "(16,)\n"
          ]
        }
      ]
    },
    {
      "cell_type": "code",
      "metadata": {
        "id": "XFk8AqhS9ckX",
        "colab": {
          "base_uri": "https://localhost:8080/"
        },
        "outputId": "75fcc71c-d1a7-4fea-92db-1ffac1767914"
      },
      "source": [
        "#reshaping data with CP\n",
        "data_rx1 = data_rx[0:95]\n",
        "#print(data_rx1)\n",
        "\n",
        "i = 0\n",
        "s = 0\n",
        "t=0\n",
        "reshaped_data = np.zeros(((N+3),L), dtype=complex)\n",
        "while i < L:\n",
        "      k=0\n",
        "      while k < N+3: #19\n",
        "            g=(data_rx1[t])\n",
        "            reshaped_data[k,i]=g\n",
        "            t+=1\n",
        "            k+=1\n",
        "      i+=1    \n",
        "print(reshaped_data)\n",
        "print(reshaped_data.shape)\n",
        "#print(data_rx1.shape)\n",
        "#data_rx_reshaped=data_rx1.reshape((N+3),L)\n",
        "#print(data_rx_reshaped)\n",
        "#print(data_rx_reshaped.shape)"
      ],
      "execution_count": null,
      "outputs": [
        {
          "output_type": "stream",
          "name": "stdout",
          "text": [
            "[[-0.75  -0.5j   -0.4375+0.25j ]\n",
            " [ 0.375 -0.25j   1.9375+0.125j]\n",
            " [-0.5625+0.375j  0.8125+0.j   ]\n",
            " [ 1.5625+0.25j   2.6875+0.j   ]\n",
            " [-0.0625-0.375j  0.8125+0.j   ]\n",
            " [ 0.8125-0.25j   2.6875+0.j   ]\n",
            " [-0.5625+0.375j  0.8125+0.j   ]]\n",
            "(7, 2)\n"
          ]
        }
      ]
    },
    {
      "cell_type": "code",
      "metadata": {
        "id": "tFThgBf-GLQ8",
        "colab": {
          "base_uri": "https://localhost:8080/"
        },
        "outputId": "22db1b98-ca5a-43d9-f786-dfb9983b781d"
      },
      "source": [
        "#Removing cycle Prefix\n",
        "data_without_CP = reshaped_data[3:N+3,:]\n",
        "print(data_without_CP)"
      ],
      "execution_count": null,
      "outputs": [
        {
          "output_type": "stream",
          "name": "stdout",
          "text": [
            "[[ 1.5625+0.25j   2.6875+0.j   ]\n",
            " [-0.0625-0.375j  0.8125+0.j   ]\n",
            " [ 0.8125-0.25j   2.6875+0.j   ]\n",
            " [-0.5625+0.375j  0.8125+0.j   ]]\n"
          ]
        }
      ]
    },
    {
      "cell_type": "code",
      "metadata": {
        "id": "UzeD0bq2ODBY",
        "colab": {
          "base_uri": "https://localhost:8080/"
        },
        "outputId": "58e2fce7-70e1-4594-f2de-ff8a17aed45f"
      },
      "source": [
        "#FFT\n",
        "import scipy as sp\n",
        "\n",
        "data_without_CP_or_fft = np.zeros((N,L), dtype=complex)\n",
        "\n",
        "p=0\n",
        "while p<L:\n",
        "      data_without_CP_or_fft[:,p]= np.fft.fft(data_without_CP[:,p])\n",
        "      p+=1\n",
        "print(data_without_CP_or_fft)\n",
        "print(data_without_CP_or_fft.shape)"
      ],
      "execution_count": null,
      "outputs": [
        {
          "output_type": "stream",
          "name": "stdout",
          "text": [
            "[[1.75+0.j 7.  +0.j]\n",
            " [0.  +0.j 0.  +0.j]\n",
            " [3.  +0.j 3.75+0.j]\n",
            " [1.5 +1.j 0.  +0.j]]\n",
            "(4, 2)\n"
          ]
        }
      ]
    },
    {
      "cell_type": "code",
      "metadata": {
        "colab": {
          "base_uri": "https://localhost:8080/"
        },
        "id": "zoVqNxtjQYhV",
        "outputId": "13b88a7b-d038-4a8d-e6c0-34a8290e12c3"
      },
      "source": [
        "#channel equalyzier\n",
        "import numpy as np\n",
        "from numpy import matrix\n",
        "from numpy import linalg\n",
        "#data_recover = np.zeros((N,L), dtype=complex)\n",
        "data_recover1 = np.zeros((N,L), dtype=complex)\n",
        "H_transpose = np.zeros((16,1), dtype=complex)\n",
        "H= np.fft.fft(Channel,N)\n",
        "#H_transpose=H.transpose()\n",
        "k=0\n",
        "while k < N:\n",
        "      g=(H[k])\n",
        "      H_transpose[k,0]=g\n",
        "      k+=1\n",
        "#print(H_transpose)\n",
        "#print(H)\n",
        "#print(H_transpose)\n",
        "#print(H.shape)\n",
        "#print(H_transpose.shape)\n",
        "#H_real=H.real\n",
        "#print(H_real)\n",
        "#print(data_without_CP_or_fft)\n",
        "i=0\n",
        "while i<L:\n",
        "      #data_recover[:,i]=np.divide(data_without_CP_or_fft[:,i],H_real)\n",
        "      data_recover1[:,i]=data_without_CP_or_fft[:,i]/H\n",
        "      i+=1\n",
        "#data_recover2=data_recover1.real\n",
        "print(data_recover1)\n",
        "#print(data_recover)\n",
        "#print(data_recover.shape)"
      ],
      "execution_count": null,
      "outputs": [
        {
          "output_type": "stream",
          "name": "stdout",
          "text": [
            "[[1.+0.j 4.+0.j]\n",
            " [0.+0.j 0.+0.j]\n",
            " [4.+0.j 5.+0.j]\n",
            " [2.+0.j 0.+0.j]]\n"
          ]
        }
      ]
    },
    {
      "cell_type": "code",
      "metadata": {
        "id": "4z9VKjsR5M_N",
        "colab": {
          "base_uri": "https://localhost:8080/"
        },
        "outputId": "355d558f-4245-4a41-8bb9-e90b0a8819e9"
      },
      "source": [
        "print(Data[:,1],data_recover1[:,1])"
      ],
      "execution_count": null,
      "outputs": [
        {
          "output_type": "stream",
          "name": "stdout",
          "text": [
            "[4 0 5 0] [4.+0.j 0.+0.j 5.+0.j 0.+0.j]\n"
          ]
        }
      ]
    }
  ]
}