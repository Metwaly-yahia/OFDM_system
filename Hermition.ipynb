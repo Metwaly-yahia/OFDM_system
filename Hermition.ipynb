{
  "nbformat": 4,
  "nbformat_minor": 0,
  "metadata": {
    "colab": {
      "provenance": []
    },
    "kernelspec": {
      "name": "python3",
      "display_name": "Python 3"
    },
    "language_info": {
      "name": "python"
    }
  },
  "cells": [
    {
      "cell_type": "code",
      "execution_count": null,
      "metadata": {
        "id": "ZU5LnM7cUh5t",
        "colab": {
          "base_uri": "https://localhost:8080/"
        },
        "outputId": "01337874-cda5-4ff8-a6c2-722f74639c13"
      },
      "outputs": [
        {
          "output_type": "stream",
          "name": "stdout",
          "text": [
            "Requirement already satisfied: scikit-commpy in /usr/local/lib/python3.7/dist-packages (0.7.0)\n",
            "Requirement already satisfied: sympy in /usr/local/lib/python3.7/dist-packages (from scikit-commpy) (1.7.1)\n",
            "Requirement already satisfied: scipy in /usr/local/lib/python3.7/dist-packages (from scikit-commpy) (1.4.1)\n",
            "Requirement already satisfied: numpy in /usr/local/lib/python3.7/dist-packages (from scikit-commpy) (1.19.5)\n",
            "Requirement already satisfied: matplotlib in /usr/local/lib/python3.7/dist-packages (from scikit-commpy) (3.2.2)\n",
            "Requirement already satisfied: kiwisolver>=1.0.1 in /usr/local/lib/python3.7/dist-packages (from matplotlib->scikit-commpy) (1.3.2)\n",
            "Requirement already satisfied: pyparsing!=2.0.4,!=2.1.2,!=2.1.6,>=2.0.1 in /usr/local/lib/python3.7/dist-packages (from matplotlib->scikit-commpy) (3.0.7)\n",
            "Requirement already satisfied: cycler>=0.10 in /usr/local/lib/python3.7/dist-packages (from matplotlib->scikit-commpy) (0.11.0)\n",
            "Requirement already satisfied: python-dateutil>=2.1 in /usr/local/lib/python3.7/dist-packages (from matplotlib->scikit-commpy) (2.8.2)\n",
            "Requirement already satisfied: six>=1.5 in /usr/local/lib/python3.7/dist-packages (from python-dateutil>=2.1->matplotlib->scikit-commpy) (1.15.0)\n",
            "Requirement already satisfied: mpmath>=0.19 in /usr/local/lib/python3.7/dist-packages (from sympy->scikit-commpy) (1.2.1)\n"
          ]
        }
      ],
      "source": [
        "! pip install scikit-commpy"
      ]
    },
    {
      "cell_type": "code",
      "source": [
        "#Data\n",
        "import math\n",
        "import numpy as np\n",
        "import commpy.channelcoding.convcode as cc\n",
        "import commpy.modulation as modulation\n",
        "import numpy as np\n",
        "\n",
        "N= 512 #Number of modulated signal subcarriers in one time slot #########if N>63 Hermision not work why?????????????\n",
        "L=3 #number of modulated signal time slots\n",
        "NN= (N*2)+2 #total Number of subcarriers in one time slot after Hermision\n",
        "LL=3 #total number of time slots after Hermision\n",
        "M = 4 # modulation order (QPSK)\n",
        "K = int(np.log2(M)) #number of bit per modulation symbol\n",
        "Data1 = np.random.randint(2,size=(K*N*L))\n",
        "print(Data1)\n",
        "print(Data1.shape)"
      ],
      "metadata": {
        "colab": {
          "base_uri": "https://localhost:8080/"
        },
        "id": "8DPJOIVcUoEg",
        "outputId": "9f72c88f-9721-486b-df36-674eaec77eec"
      },
      "execution_count": null,
      "outputs": [
        {
          "output_type": "stream",
          "name": "stdout",
          "text": [
            "[0 0 0 ... 0 1 0]\n",
            "(3072,)\n"
          ]
        }
      ]
    },
    {
      "cell_type": "code",
      "source": [
        "#M = 4 # modulation order (QPSK)\n",
        "#K = np.log2(M) #number of bit per modulation symbol\n",
        "modem = modulation.PSKModem(M) # M-PSK modem initialization\n",
        "modulated_uncoded2 = modem.modulate(Data1) \n",
        "#modulated = modem.modulate(Data1) # modulation\n",
        "print(modulated_uncoded2)\n",
        "print(modulated_uncoded2.shape)\n",
        "#print(modulated[2])"
      ],
      "metadata": {
        "colab": {
          "base_uri": "https://localhost:8080/"
        },
        "id": "h9n2VMGxUqEi",
        "outputId": "dc839aae-b42e-41f7-a4b5-f488c2c316f1"
      },
      "execution_count": null,
      "outputs": [
        {
          "output_type": "stream",
          "name": "stdout",
          "text": [
            "[ 1.0000000e+00+0.j  6.1232340e-17+1.j  6.1232340e-17+1.j ...\n",
            " -1.8369702e-16-1.j  1.0000000e+00+0.j -1.8369702e-16-1.j]\n",
            "(1536,)\n"
          ]
        }
      ]
    },
    {
      "cell_type": "code",
      "source": [
        "modulated_uncoded= np.zeros((N,L), dtype=complex)\n",
        "i=0\n",
        "k=0\n",
        "t=0\n",
        "while i<L:\n",
        "      k=0\n",
        "      while k<N:\n",
        "            g=modulated_uncoded2[t]\n",
        "            modulated_uncoded[k,i]=g\n",
        "            t+=1\n",
        "            k+=1\n",
        "      i+=1\n",
        "print(modulated_uncoded)"
      ],
      "metadata": {
        "colab": {
          "base_uri": "https://localhost:8080/"
        },
        "id": "1NTINcjI6lIk",
        "outputId": "1e0cefa4-23f4-4a57-896d-b516b3dd185f"
      },
      "execution_count": null,
      "outputs": [
        {
          "output_type": "stream",
          "name": "stdout",
          "text": [
            "[[ 1.0000000e+00+0.0000000e+00j  1.0000000e+00+0.0000000e+00j\n",
            "   6.1232340e-17+1.0000000e+00j]\n",
            " [ 6.1232340e-17+1.0000000e+00j  1.0000000e+00+0.0000000e+00j\n",
            "   1.0000000e+00+0.0000000e+00j]\n",
            " [ 6.1232340e-17+1.0000000e+00j -1.0000000e+00+1.2246468e-16j\n",
            "   1.0000000e+00+0.0000000e+00j]\n",
            " ...\n",
            " [ 6.1232340e-17+1.0000000e+00j  1.0000000e+00+0.0000000e+00j\n",
            "  -1.8369702e-16-1.0000000e+00j]\n",
            " [-1.0000000e+00+1.2246468e-16j  1.0000000e+00+0.0000000e+00j\n",
            "   1.0000000e+00+0.0000000e+00j]\n",
            " [-1.0000000e+00+1.2246468e-16j  6.1232340e-17+1.0000000e+00j\n",
            "  -1.8369702e-16-1.0000000e+00j]]\n"
          ]
        }
      ]
    },
    {
      "cell_type": "code",
      "source": [
        "def Hermitian(matrix):\n",
        "    conjec= np.zeros((N,L), dtype=complex)\n",
        "    i=0\n",
        "    while i<L:\n",
        "          conjec[:,i]=np.conj(matrix[:,i])\n",
        "          i+=1\n",
        "    reversed_conjec=conjec[-1::-1]\n",
        "    z = np.zeros((1,L)) \n",
        "    modulated_uncodeda=np.vstack(z)\n",
        "    modulated_uncodeda=np.vstack((modulated_uncodeda,matrix))\n",
        "    modulated_uncodedb=np.vstack((modulated_uncodeda,z))\n",
        "    Hermitian_Data=np.vstack((modulated_uncodedb,reversed_conjec))\n",
        "    return Hermitian_Data"
      ],
      "metadata": {
        "id": "3eslKgs_PFFe"
      },
      "execution_count": null,
      "outputs": []
    },
    {
      "cell_type": "code",
      "source": [
        "Hermitian_Data=Hermitian(modulated_uncoded)"
      ],
      "metadata": {
        "id": "eTTKyX-aP7b4"
      },
      "execution_count": null,
      "outputs": []
    },
    {
      "cell_type": "code",
      "source": [
        "print(Hermitian_Data)"
      ],
      "metadata": {
        "colab": {
          "base_uri": "https://localhost:8080/"
        },
        "id": "u1_V1hYzVGwE",
        "outputId": "e040584c-885c-4458-bdb6-a555bc436049"
      },
      "execution_count": null,
      "outputs": [
        {
          "output_type": "stream",
          "name": "stdout",
          "text": [
            "[[ 0.000000e+00+0.0000000e+00j  0.000000e+00+0.0000000e+00j\n",
            "   0.000000e+00+0.0000000e+00j]\n",
            " [ 1.000000e+00+0.0000000e+00j  1.000000e+00+0.0000000e+00j\n",
            "   6.123234e-17+1.0000000e+00j]\n",
            " [ 6.123234e-17+1.0000000e+00j  1.000000e+00+0.0000000e+00j\n",
            "   1.000000e+00+0.0000000e+00j]\n",
            " ...\n",
            " [ 6.123234e-17-1.0000000e+00j -1.000000e+00-1.2246468e-16j\n",
            "   1.000000e+00-0.0000000e+00j]\n",
            " [ 6.123234e-17-1.0000000e+00j  1.000000e+00-0.0000000e+00j\n",
            "   1.000000e+00-0.0000000e+00j]\n",
            " [ 1.000000e+00-0.0000000e+00j  1.000000e+00-0.0000000e+00j\n",
            "   6.123234e-17-1.0000000e+00j]]\n"
          ]
        }
      ]
    },
    {
      "cell_type": "code",
      "source": [
        "#IFFT\n",
        "p=0\n",
        "Data_ifft = np.zeros((NN,L), dtype=complex)  #per column\n",
        "while p<L:\n",
        "      Data_ifft[:,p]= np.fft.ifft(Hermitian_Data[:,p])\n",
        "      p+=1\n",
        "print(Data_ifft)\n",
        "print(Data_ifft.shape)\n",
        "#Data_ifft = np.fft.ifft(Data)\n",
        "data_final = Data_ifft"
      ],
      "metadata": {
        "colab": {
          "base_uri": "https://localhost:8080/"
        },
        "id": "VhIPPai0YWOn",
        "outputId": "f4dce2e7-e029-4ad4-e6f3-a857ddf7832e"
      },
      "execution_count": null,
      "outputs": [
        {
          "output_type": "stream",
          "name": "stdout",
          "text": [
            "[[-0.00584795-8.65670974e-19j  0.00974659-4.32835487e-19j\n",
            "   0.04288499+3.24626615e-19j]\n",
            " [-0.00010408+4.32835487e-19j  0.00765176+3.24626615e-18j\n",
            "  -0.020523  -1.94775969e-18j]\n",
            " [ 0.03310869+9.36006741e-18j -0.0211598 -3.13805728e-18j\n",
            "  -0.01348327+1.08208872e-18j]\n",
            " ...\n",
            " [-0.02606224-7.38837617e-18j -0.02028185-2.75469919e-18j\n",
            "   0.01966314-6.38345413e-18j]\n",
            " [ 0.04475389-8.72080097e-18j -0.03257978+4.35651782e-18j\n",
            "   0.00979289-3.49302685e-18j]\n",
            " [-0.00288981+4.93559834e-18j -0.02788105-2.21475084e-18j\n",
            "  -0.03056395-9.02488032e-18j]]\n",
            "(1026, 3)\n"
          ]
        }
      ]
    },
    {
      "cell_type": "code",
      "source": [
        "#CP\n",
        "Channel=[1,0.5,0.25]\n",
        "#length of cycle prefix must be >= length of channel\n",
        "CP = Data_ifft[NN-3:NN,:]\n",
        "#print(CP)\n",
        "Data_CP = np.vstack((CP, Data_ifft))\n",
        "print(Data_CP)\n",
        "data_final = Data_CP\n",
        "print(data_final.shape)"
      ],
      "metadata": {
        "colab": {
          "base_uri": "https://localhost:8080/"
        },
        "id": "4rZ44wBD5jfg",
        "outputId": "59f3250a-520a-4555-98da-10dff69b4857"
      },
      "execution_count": null,
      "outputs": [
        {
          "output_type": "stream",
          "name": "stdout",
          "text": [
            "[[-0.02606224-7.38837617e-18j -0.02028185-2.75469919e-18j\n",
            "   0.01966314-6.38345413e-18j]\n",
            " [ 0.04475389-8.72080097e-18j -0.03257978+4.35651782e-18j\n",
            "   0.00979289-3.49302685e-18j]\n",
            " [-0.00288981+4.93559834e-18j -0.02788105-2.21475084e-18j\n",
            "  -0.03056395-9.02488032e-18j]\n",
            " ...\n",
            " [-0.02606224-7.38837617e-18j -0.02028185-2.75469919e-18j\n",
            "   0.01966314-6.38345413e-18j]\n",
            " [ 0.04475389-8.72080097e-18j -0.03257978+4.35651782e-18j\n",
            "   0.00979289-3.49302685e-18j]\n",
            " [-0.00288981+4.93559834e-18j -0.02788105-2.21475084e-18j\n",
            "  -0.03056395-9.02488032e-18j]]\n",
            "(1029, 3)\n"
          ]
        }
      ]
    },
    {
      "cell_type": "code",
      "source": [
        "#P/S with CP\n",
        "i = 0\n",
        "s = 0\n",
        "t = 0\n",
        "serial_data = np.zeros(((NN+3)*L), dtype=complex)\n",
        "while i < L:\n",
        "      k=0\n",
        "      while k < NN+3: \n",
        "            g=(data_final[k,i])\n",
        "            serial_data[t]=g\n",
        "            t+=1\n",
        "            k+=1\n",
        "      i+=1    \n",
        "print(serial_data)\n",
        "print(serial_data.shape)"
      ],
      "metadata": {
        "colab": {
          "base_uri": "https://localhost:8080/"
        },
        "id": "P0TDjH-C5kgn",
        "outputId": "1796aeb4-44ab-4c10-a68c-e1c9194d27a0"
      },
      "execution_count": null,
      "outputs": [
        {
          "output_type": "stream",
          "name": "stdout",
          "text": [
            "[-0.02606224-7.38837617e-18j  0.04475389-8.72080097e-18j\n",
            " -0.00288981+4.93559834e-18j ...  0.01966314-6.38345413e-18j\n",
            "  0.00979289-3.49302685e-18j -0.03056395-9.02488032e-18j]\n",
            "(3087,)\n"
          ]
        }
      ]
    },
    {
      "cell_type": "code",
      "source": [
        "#convolution between data and channel\n",
        "from scipy.ndimage import convolve\n",
        "data_rx_H = np.convolve(serial_data,Channel)\n",
        "print(data_rx_H)\n",
        "print(data_rx_H.shape)"
      ],
      "metadata": {
        "colab": {
          "base_uri": "https://localhost:8080/"
        },
        "id": "eP9buW-65qSL",
        "outputId": "9c5d7d2c-ebd1-4fae-d475-23f41ca7b65e"
      },
      "execution_count": null,
      "outputs": [
        {
          "output_type": "stream",
          "name": "stdout",
          "text": [
            "[-0.02606224-7.38837617e-18j  0.03172277-1.24149890e-17j\n",
            "  0.01297157-1.27189618e-18j ... -0.02075172-1.23672573e-17j\n",
            " -0.01283375-5.38569687e-18j -0.00764099-2.25622008e-18j]\n",
            "(3089,)\n"
          ]
        }
      ]
    },
    {
      "cell_type": "code",
      "source": [
        "#noise\n",
        "EbNo = 9 # energy per bit to noise power spectral density ratio (in dB)\n",
        "#rate=1   #rate =1 as signal is uncoded\n",
        "#snrdB = EbNo + 10*np.log10(2*rate)+10*np.log10(N*L)+10*np.log10()   #2=K=np.log2(M), Signal-to-Noise ratio per symbol (in dB) \n",
        "Es = np.mean(np.abs(modulated_uncoded)**2)   # symbol energy\n",
        "No = Es/((10**(EbNo/10))*np.log2(M))   # noise spectrum density                                                                                 \n",
        "data_rx = data_rx_H + np.sqrt(No/2)*(np.random.randn(data_rx_H.shape[0]))#+1j*np.random.randn(data_rx_H.shape[0]))   # AWGN (uncoded case)                                                                                \n",
        "print(data_rx)                                                                                  \n",
        "print(data_rx.shape)    \n",
        "\n",
        "#Es/No(dB)=Eb/No(dB)+10log10(Nc*log2(M))+10log10(CodeRate)+10log10(Tinf/(Tinf+Tcp))\n",
        "#M - number of symbols used in the modulation scheme\n",
        "#Nc - number of subcarriers in the ofdm symbol\n",
        "#CodeRate - well..code rate :)\n",
        "#Tinf - information period in the ofdm system\n",
        "#Tcp - cyclic prefix period in the ofdm system\n",
        "#(Tcp+Tinf = Tsymbol)  ?????\n",
        "#https://www.edaboard.com/threads/snr-to-ebno-in-ofdm-system.125546/\n"
      ],
      "metadata": {
        "colab": {
          "base_uri": "https://localhost:8080/"
        },
        "id": "4oLWuPgl22-O",
        "outputId": "637cb71b-7eab-4cdd-8537-f99ec826c2d1"
      },
      "execution_count": null,
      "outputs": [
        {
          "output_type": "stream",
          "name": "stdout",
          "text": [
            "[0.17415318-7.38837617e-18j 0.37400346-1.24149890e-17j\n",
            " 0.16169155-1.27189618e-18j ... 0.12097849-1.23672573e-17j\n",
            " 0.08837059-5.38569687e-18j 0.22643988-2.25622008e-18j]\n",
            "(3089,)\n"
          ]
        }
      ]
    },
    {
      "cell_type": "code",
      "source": [
        "#reshaping data with CP\n",
        "data_rx1 = data_rx[0:12000000]\n",
        "#print(data_rx1)\n",
        "i = 0\n",
        "s = 0\n",
        "t=0\n",
        "reshaped_data = np.zeros(((NN+3),L), dtype=complex)\n",
        "while i < L:\n",
        "      k=0\n",
        "      while k < NN+3: #19\n",
        "            g=(data_rx1[t])\n",
        "            reshaped_data[k,i]=g\n",
        "            t+=1\n",
        "            k+=1\n",
        "      i+=1    \n",
        "print(reshaped_data)\n",
        "print(reshaped_data.shape)"
      ],
      "metadata": {
        "colab": {
          "base_uri": "https://localhost:8080/"
        },
        "id": "xC-xa3ie3QZ3",
        "outputId": "f70af90d-9c3a-414c-ef85-05566f4b12a4"
      },
      "execution_count": null,
      "outputs": [
        {
          "output_type": "stream",
          "name": "stdout",
          "text": [
            "[[ 1.74153181e-01-7.38837617e-18j -4.29416256e-02-2.46710026e-18j\n",
            "  -1.66583277e-01-6.40170010e-18j]\n",
            " [ 3.74003456e-01-1.24149890e-17j -2.61264006e-01+4.21306780e-18j\n",
            "   1.41696072e-02-7.23844162e-18j]\n",
            " [ 1.61691551e-01-1.27189618e-18j -2.06678983e-01-7.25166731e-19j\n",
            "  -1.09149387e-01-1.23672573e-17j]\n",
            " ...\n",
            " [ 3.13082832e-02-2.47243095e-18j -4.96328809e-04-1.25230378e-18j\n",
            "   1.22700571e-01-7.11674984e-18j]\n",
            " [ 6.81216700e-02-1.02563799e-17j -1.09970838e-01+3.75470856e-18j\n",
            "  -2.50913662e-01-7.18101289e-18j]\n",
            " [ 3.70466671e-04-1.27189618e-18j -1.07139635e-02-7.25166731e-19j\n",
            "   1.20978495e-01-1.23672573e-17j]]\n",
            "(1029, 3)\n"
          ]
        }
      ]
    },
    {
      "cell_type": "code",
      "source": [
        "#Removing cycle Prefix\n",
        "data_without_CP = reshaped_data[3:NN+3,:]\n",
        "print(data_without_CP)"
      ],
      "metadata": {
        "colab": {
          "base_uri": "https://localhost:8080/"
        },
        "id": "3RY2svl56Zdo",
        "outputId": "6db2b9cb-f126-4384-fa4b-e1c00a6954de"
      },
      "execution_count": null,
      "outputs": [
        {
          "output_type": "stream",
          "name": "stdout",
          "text": [
            "[[ 0.0903298 -5.78072046e-19j -0.16039895-4.51081454e-19j\n",
            "  -0.04072592-5.06107026e-18j]\n",
            " [ 0.17120616+1.23389959e-18j  0.09567921+2.47616070e-18j\n",
            "   0.20884898-4.04166646e-18j]\n",
            " [ 0.10011641+9.36006741e-18j  0.02268943-1.62313308e-18j\n",
            "   0.0351124 +1.89365526e-19j]\n",
            " ...\n",
            " [ 0.03130828-2.47243095e-18j -0.00049633-1.25230378e-18j\n",
            "   0.12270057-7.11674984e-18j]\n",
            " [ 0.06812167-1.02563799e-17j -0.10997084+3.75470856e-18j\n",
            "  -0.25091366-7.18101289e-18j]\n",
            " [ 0.00037047-1.27189618e-18j -0.01071396-7.25166731e-19j\n",
            "   0.12097849-1.23672573e-17j]]\n"
          ]
        }
      ]
    },
    {
      "cell_type": "code",
      "source": [
        "#FFT\n",
        "import scipy as sp\n",
        "data_without_CP_or_fft = np.zeros((NN,L), dtype=complex)\n",
        "p=0\n",
        "while p<L:\n",
        "      data_without_CP_or_fft[:,p]= np.fft.fft(data_without_CP[:,p])\n",
        "      p+=1\n",
        "print(data_without_CP_or_fft)\n",
        "print(data_without_CP_or_fft.shape)"
      ],
      "metadata": {
        "colab": {
          "base_uri": "https://localhost:8080/"
        },
        "id": "VMZcbLXI1Lz2",
        "outputId": "27e39752-bc68-4bcf-9a79-0c6cd93fe5d7"
      },
      "execution_count": null,
      "outputs": [
        {
          "output_type": "stream",
          "name": "stdout",
          "text": [
            "[[ 1.58585753+9.86076132e-32j -2.25994279+4.93038066e-32j\n",
            "   5.36205445+2.77333912e-32j]\n",
            " [ 2.62489433+5.74826643e+00j -1.7592757 +4.05212610e+00j\n",
            "  -1.84667863+1.05734886e+00j]\n",
            " [-1.02554871+2.28819107e-01j -0.16802336-9.25078823e-01j\n",
            "   2.82495563-2.43239315e+00j]\n",
            " ...\n",
            " [-0.51036956-6.62542456e+00j -0.20965712+2.62535509e+00j\n",
            "  -1.37986092-5.65664278e-01j]\n",
            " [-1.02554871-2.28819107e-01j -0.16802336+9.25078823e-01j\n",
            "   2.82495563+2.43239315e+00j]\n",
            " [ 2.62489433-5.74826643e+00j -1.7592757 -4.05212610e+00j\n",
            "  -1.84667863-1.05734886e+00j]]\n",
            "(1026, 3)\n"
          ]
        }
      ]
    },
    {
      "cell_type": "code",
      "source": [
        "#channel equalyzier\n",
        "import numpy as np\n",
        "from numpy import matrix\n",
        "from numpy import linalg\n",
        "data_recover = np.zeros((NN,L), dtype=complex)\n",
        "H_transpose = np.zeros((NN,1), dtype=complex)\n",
        "H= np.fft.fft(Channel,NN)\n",
        "#H_transpose=H.transpose()\n",
        "k=0\n",
        "while k < NN:\n",
        "      g=(H[k])\n",
        "      H_transpose[k,0]=g\n",
        "      k+=1\n",
        "i=0\n",
        "while i<L:\n",
        "      #data_recover[:,i]=np.divide(data_without_CP_or_fft[:,i],H_real)\n",
        "      data_recover[:,i]=data_without_CP_or_fft[:,i]/H\n",
        "      i+=1\n",
        "print(data_recover)\n",
        "#print(data_recover.shape)"
      ],
      "metadata": {
        "colab": {
          "base_uri": "https://localhost:8080/"
        },
        "id": "SmKYA3jL72wU",
        "outputId": "aa71aea1-4bf9-44d1-871c-6f77f0129d69"
      },
      "execution_count": null,
      "outputs": [
        {
          "output_type": "stream",
          "name": "stdout",
          "text": [
            "[[ 0.9062043 +5.63472075e-32j -1.29139588+2.81736038e-32j\n",
            "   3.06403112+1.58476521e-32j]\n",
            " [ 1.48845072+3.28998516e+00j -1.01340716+2.31199152e+00j\n",
            "  -1.05736332+6.00508914e-01j]\n",
            " [-0.58695194+1.26654207e-01j -0.09231507-5.29296553e-01j\n",
            "   1.62401316-1.37866212e+00j]\n",
            " ...\n",
            " [-0.33139713-3.78302548e+00j -0.10405813+1.50151236e+00j\n",
            "  -0.79191266-3.14969783e-01j]\n",
            " [-0.58695194-1.26654207e-01j -0.09231507+5.29296553e-01j\n",
            "   1.62401316+1.37866212e+00j]\n",
            " [ 1.48845072-3.28998516e+00j -1.01340716-2.31199152e+00j\n",
            "  -1.05736332-6.00508914e-01j]]\n"
          ]
        }
      ]
    },
    {
      "cell_type": "code",
      "source": [
        "#P/S \n",
        "i = 0\n",
        "s = 0\n",
        "t = 0\n",
        "serial_data = np.zeros((NN*L), dtype=complex)\n",
        "while i < L:\n",
        "      k=0\n",
        "      while k < NN: \n",
        "            g=(data_recover[k,i])\n",
        "            serial_data[t]=g\n",
        "            t+=1\n",
        "            k+=1\n",
        "      i+=1    \n",
        "print(serial_data)\n",
        "print(serial_data.shape)"
      ],
      "metadata": {
        "colab": {
          "base_uri": "https://localhost:8080/"
        },
        "id": "2CjwF7mz1Sar",
        "outputId": "84b30136-ccc9-4b1b-9a55-f272982df363"
      },
      "execution_count": null,
      "outputs": [
        {
          "output_type": "stream",
          "name": "stdout",
          "text": [
            "[ 0.9062043 +5.63472075e-32j  1.48845072+3.28998516e+00j\n",
            " -0.58695194+1.26654207e-01j ... -0.79191266-3.14969783e-01j\n",
            "  1.62401316+1.37866212e+00j -1.05736332-6.00508914e-01j]\n",
            "(3078,)\n"
          ]
        }
      ]
    },
    {
      "cell_type": "code",
      "source": [
        "demodulated_uncoded = modem.demodulate(serial_data, demod_type='hard') # demodulation (uncoded case)\n",
        "print(demodulated_uncoded)"
      ],
      "metadata": {
        "colab": {
          "base_uri": "https://localhost:8080/"
        },
        "id": "iF2SFy5k1Tbx",
        "outputId": "175d812b-142c-42a0-b804-79528a2172b8"
      },
      "execution_count": null,
      "outputs": [
        {
          "output_type": "stream",
          "name": "stdout",
          "text": [
            "[0 0 0 ... 0 1 1]\n"
          ]
        }
      ]
    },
    {
      "cell_type": "code",
      "source": [
        "recovered_data=demodulated_uncoded[K:K+(K*N)]\n",
        "i=1\n",
        "p=3\n",
        "while i<L: \n",
        "      recovered_data=np.hstack((recovered_data,demodulated_uncoded[(p*K)+((p-1)*(K*N)):(p*K)+((p-1)*(K*N))+(K*N)]))\n",
        "      i+=1\n",
        "      p+=2\n",
        "print(recovered_data)\n",
        "print(recovered_data.shape)"
      ],
      "metadata": {
        "colab": {
          "base_uri": "https://localhost:8080/"
        },
        "id": "C0TGzU3p1Xs-",
        "outputId": "0e5e4a66-b2e1-4cf6-a8dc-dcf9078c0e40"
      },
      "execution_count": null,
      "outputs": [
        {
          "output_type": "stream",
          "name": "stdout",
          "text": [
            "[0 1 1 ... 1 1 1]\n",
            "(3072,)\n"
          ]
        }
      ]
    },
    {
      "cell_type": "code",
      "source": [
        "#BER_calculation\n",
        "N_c = K*N*L # number of bits\n",
        "i=0\n",
        "BER_uncoded = np.zeros(N_c)\n",
        "def BER_calc(a, b):      #func_compare_bet_the_original_and_transmitted_data\n",
        "    ber = a-b                     #if bits are equal return 0 else return 1 \n",
        "    while ber==0:\n",
        "          return 0\n",
        "    else:\n",
        "         return 1\n",
        "while i<N_c:\n",
        "      BER_uncoded[i] = BER_calc(Data1[i], recovered_data[i]) # bit-error ratio \n",
        "      i+=1\n",
        "print(BER_uncoded)\n",
        "\n",
        "mean_BER_uncoded = BER_uncoded.mean() # averaged bit-error ratio (uncoded case)\n",
        "print('BER =',mean_BER_uncoded)\n",
        "similarity=1-mean_BER_uncoded #the similarity between the recieved and original signal\n",
        "print('similarity between the recieved and original signal =',similarity*100, '%')"
      ],
      "metadata": {
        "colab": {
          "base_uri": "https://localhost:8080/"
        },
        "id": "2KBdnyS81Xpz",
        "outputId": "05a1e130-6f69-4244-f8f1-0b57817a89fc"
      },
      "execution_count": null,
      "outputs": [
        {
          "output_type": "stream",
          "name": "stdout",
          "text": [
            "[0. 1. 1. ... 1. 0. 1.]\n",
            "BER = 0.4462890625\n",
            "similarity between the recieved and original signal = 55.37109375 %\n"
          ]
        }
      ]
    },
    {
      "cell_type": "code",
      "source": [],
      "metadata": {
        "id": "BgxOy9JV1XmW"
      },
      "execution_count": null,
      "outputs": []
    },
    {
      "cell_type": "code",
      "source": [
        "#Hermitian matrix\n",
        "Nofcolumns=math.ceil(N*L/18)\n",
        "Nofsymbols=N*L\n",
        "if Nofcolumns > 1:\n",
        "   conjec=np.conj(modulated_uncoded2)\n",
        "   #reversed_conjec=conjec[-1::-1]\n",
        "   #print(reversed_conjec)                                \n",
        "   z = np.zeros(1) \n",
        "   modulated_uncodeda=np.hstack((z))\n",
        "   modulated_uncodeda=np.hstack((modulated_uncodeda,modulated_uncoded2[0:18]))      #0:17\n",
        "   modulated_uncodedb=np.hstack((modulated_uncodeda,z))\n",
        "   conjec=np.conj(modulated_uncoded2[0:18])\n",
        "   reversed_conjec1=conjec[-1::-1]\n",
        "   modulated_uncodedc=np.hstack((modulated_uncodedb,reversed_conjec1[0:18]))        #0:17\n",
        "   #modulated_uncodedc=np.hstack((modulated_uncodedb,conjec))\n",
        "   i=2\n",
        "   while i < Nofcolumns:\n",
        "         modulated_uncodedc=np.hstack((modulated_uncodedc,z))\n",
        "         modulated_uncodedc=np.hstack((modulated_uncodedc,modulated_uncoded2[(18*(i-1)):((18*i))]))      #(18*i)-1\n",
        "         conjec=np.conj(modulated_uncoded2[(18*(i-1)):((18*i))])\n",
        "         reversed_conjec=conjec[-1::-1]\n",
        "         modulated_uncodedc=np.hstack((modulated_uncodedc,z,reversed_conjec))       #(18*i)-1\n",
        "         i+=1\n",
        "   while i == Nofcolumns: \n",
        "         conjec=np.conj(modulated_uncoded2[18*(i-1):])\n",
        "         reversed_conjec=conjec[-1::-1]\n",
        "         modulated_uncodedc=np.hstack((modulated_uncodedc,z,modulated_uncoded2[18*(i-1):],z,reversed_conjec))\n",
        "         i+=1\n",
        "\n",
        "   print(modulated_uncodedc)\n",
        "\n",
        "if Nofcolumns <= 1:\n",
        "   conjec=np.conj(modulated_uncoded2)\n",
        "   reversed_conjec=conjec[-1::-1]\n",
        "   z = np.zeros(1) \n",
        "   modulated_uncodeda=np.hstack((z))\n",
        "   modulated_uncodeda=np.hstack((modulated_uncodeda,modulated_uncoded2))\n",
        "   modulated_uncodedb=np.hstack((modulated_uncodeda,z))\n",
        "   #modulated_uncodedc=np.hstack((modulated_uncodedb,conjec))\n",
        "   modulated_uncodedc=np.hstack((modulated_uncodedb,reversed_conjec))\n",
        "   #modulated_uncodedc=np.hstack((modulated_uncodedc,z))\n",
        "   print(modulated_uncodedc)\n",
        "print(modulated_uncodedc.shape)"
      ],
      "metadata": {
        "colab": {
          "base_uri": "https://localhost:8080/"
        },
        "id": "Nl78kjHGUvbj",
        "outputId": "c0822be9-7c5b-4411-d3e9-ad5d49b327c2"
      },
      "execution_count": null,
      "outputs": [
        {
          "output_type": "stream",
          "name": "stdout",
          "text": [
            "[ 0.000000e+00+0.0000000e+00j  1.000000e+00+0.0000000e+00j\n",
            "  6.123234e-17+1.0000000e+00j ...  6.123234e-17-1.0000000e+00j\n",
            "  6.123234e-17-1.0000000e+00j -1.000000e+00-1.2246468e-16j]\n",
            "(3244,)\n"
          ]
        }
      ]
    }
  ]
}